{
 "cells": [
  {
   "cell_type": "code",
   "execution_count": 1,
   "metadata": {},
   "outputs": [],
   "source": [
    "from CreazioneMondo import *"
   ]
  },
  {
   "cell_type": "code",
   "execution_count": 2,
   "metadata": {},
   "outputs": [],
   "source": [
    "moves = {1:'up',2:'down',3:'right',4:'left'}"
   ]
  },
  {
   "cell_type": "code",
   "execution_count": 3,
   "metadata": {},
   "outputs": [],
   "source": [
    "from IPython.display import clear_output\n",
    "from time import sleep\n",
    "import random"
   ]
  },
  {
   "cell_type": "code",
   "execution_count": 16,
   "metadata": {},
   "outputs": [],
   "source": [
    "k=20\n",
    "random_moves=[]\n",
    "for i in range(k):\n",
    "    random_moves.append(random.randint(1,4))"
   ]
  },
  {
   "cell_type": "code",
   "execution_count": 17,
   "metadata": {},
   "outputs": [
    {
     "data": {
      "text/plain": [
       "[1, 1, 4, 2, 3, 2, 3, 4, 3, 2, 1, 2, 3, 3, 2, 1, 1, 2, 4, 3]"
      ]
     },
     "execution_count": 17,
     "metadata": {},
     "output_type": "execute_result"
    }
   ],
   "source": [
    "random_moves"
   ]
  },
  {
   "cell_type": "code",
   "execution_count": 20,
   "metadata": {},
   "outputs": [
    {
     "name": "stdout",
     "output_type": "stream",
     "text": [
      "┌─────────────────────────────┐\n",
      "│          █     D     █      │\n",
      "│      █           █       █  │\n",
      "│                ███          │\n",
      "│                        █    │\n",
      "│  █         █           █    │\n",
      "│                             │\n",
      "│                      █      │\n",
      "│              █              │\n",
      "│                █            │\n",
      "│█           █   █            │\n",
      "│  █                     █    │\n",
      "│█               █     █      │\n",
      "│        █     █           █  │\n",
      "│      █     █     █         K│\n",
      "│█       █                 █ A│\n",
      "└─────────────────────────────┘\n"
     ]
    }
   ],
   "source": [
    "players = [Agent(ARCHER_CHAR, \"archer\", 2),\n",
    "               Agent(KNIGHT_CHAR, \"sword\", 1)]\n",
    "dragon = Agent(DRAGON_CHAR, \"fire\", 3)\n",
    "world1 = World(dragon, players)\n",
    "print(world1)"
   ]
  },
  {
   "cell_type": "code",
   "execution_count": 21,
   "metadata": {},
   "outputs": [
    {
     "name": "stdout",
     "output_type": "stream",
     "text": [
      "┌─────────────────────────────┐\n",
      "│          █           █      │\n",
      "│      █       D   █       █  │\n",
      "│                ███          │\n",
      "│                        █    │\n",
      "│  █         █           █    │\n",
      "│                             │\n",
      "│                      █      │\n",
      "│              █              │\n",
      "│                █            │\n",
      "│█           █   █            │\n",
      "│  █                     █    │\n",
      "│█               █     █      │\n",
      "│        █     █           █  │\n",
      "│      █     █     █         K│\n",
      "│█       █                 █ A│\n",
      "└─────────────────────────────┘\n"
     ]
    }
   ],
   "source": [
    "max_epochs=20\n",
    "for _ in range(max_epochs):\n",
    "    print(world1)\n",
    "    clear_output(wait=True)\n",
    "    dragon.move(moves[random_moves[_]],1)()\n",
    "    sleep(.2)"
   ]
  },
  {
   "cell_type": "code",
   "execution_count": null,
   "metadata": {},
   "outputs": [],
   "source": []
  }
 ],
 "metadata": {
  "kernelspec": {
   "display_name": "Python 3",
   "language": "python",
   "name": "python3"
  },
  "language_info": {
   "codemirror_mode": {
    "name": "ipython",
    "version": 3
   },
   "file_extension": ".py",
   "mimetype": "text/x-python",
   "name": "python",
   "nbconvert_exporter": "python",
   "pygments_lexer": "ipython3",
   "version": "3.5.3"
  }
 },
 "nbformat": 4,
 "nbformat_minor": 2
}
